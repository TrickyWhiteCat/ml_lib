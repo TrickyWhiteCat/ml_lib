{
 "cells": [
  {
   "cell_type": "code",
   "execution_count": 1,
   "metadata": {},
   "outputs": [],
   "source": [
    "import numpy as np\n",
    "import pandas as pd\n",
    "import matplotlib.pyplot as plt\n",
    "import seaborn as sns\n",
    "from scipy import optimize as opt\n",
    "from models.tools import preprocess\n",
    "from models.tools import func"
   ]
  },
  {
   "cell_type": "code",
   "execution_count": 3,
   "metadata": {},
   "outputs": [],
   "source": [
    "# Data sample\n",
    "from keras.datasets import mnist\n",
    "(x_train, y_train), (x_test, y_test) = mnist.load_data()\n"
   ]
  },
  {
   "cell_type": "code",
   "execution_count": null,
   "metadata": {},
   "outputs": [],
   "source": [
    "# Plot a sample of the data\n",
    "import random\n",
    "plt.figure(figsize = (10, 10))\n",
    "for i in range(25):\n",
    "    plt.subplot(5, 5, i + 1)\n",
    "    id = random.randint(0, len(x_train))\n",
    "    plt.imshow(x_train[i], cmap = 'gray')\n",
    "    plt.title(y_train[i])"
   ]
  },
  {
   "cell_type": "code",
   "execution_count": 16,
   "metadata": {},
   "outputs": [],
   "source": [
    "# Logistic regression\n",
    "def _cost(theta, x, y, lambda_):\n",
    "    SAMPLE_SIZE = np.size(x, 0)\n",
    "    reg = lambda_ / (2 * SAMPLE_SIZE) * np.sum(np.square(theta))\n",
    "    y_hat = func.sigmoid(x @ theta)\n",
    "    c = -func.sum(y * np.log(y_hat) + (1 - y) * np.log(1 - y_hat))\n",
    "    return c + reg"
   ]
  },
  {
   "cell_type": "code",
   "execution_count": 17,
   "metadata": {},
   "outputs": [],
   "source": [
    "def _grad(theta, x, y, lambda_):\n",
    "    SAMPLE_SIZE = np.size(x, 0)\n",
    "    y_hat = func.sigmoid(x @ theta)\n",
    "    grad = (x.T @ (y_hat - y)) / SAMPLE_SIZE + lambda_ / SAMPLE_SIZE * theta\n",
    "    return grad"
   ]
  },
  {
   "cell_type": "code",
   "execution_count": 18,
   "metadata": {},
   "outputs": [],
   "source": [
    "def _gradient_decent(x, y, theta, lambda_, learning_rate, iterations, **kwargs):\n",
    "    SAMPLE_SIZE = np.size(x, 0)\n",
    "    if 'plot_cost' in kwargs:\n",
    "        plot = kwargs['plot_cost']\n",
    "    else:\n",
    "        plot = False\n",
    "    for i in range(iterations):\n",
    "        theta -= learning_rate * _grad(theta, x, y, lambda_)\n",
    "        if plot:\n",
    "            cost = _cost(theta, x, y, lambda_)\n",
    "            costs = [] if i == 0 else costs + [cost]\n",
    "    if plot:\n",
    "        plt.plot(costs)"
   ]
  },
  {
   "cell_type": "code",
   "execution_count": 19,
   "metadata": {},
   "outputs": [],
   "source": [
    "def fit(x, y, **kwargs): # Using one vs all\n",
    "    np.seterr(all='ignore')\n",
    "    if type(x) != np.ndarray:\n",
    "        x = np.array(x)\n",
    "    if type(y) != np.ndarray:\n",
    "        y = np.array(y)\n",
    "\n",
    "    SAMPLE_SIZE = np.size(x, 0)\n",
    "    SIZE = np.size(x)\n",
    "    if 'lambda_' not in kwargs:\n",
    "        lambda_ = 0\n",
    "    else:\n",
    "        lambda_ = kwargs['lambda_']\n",
    "\n",
    "    if 'iterations' not in kwargs:\n",
    "        iterations = 1000\n",
    "    else:\n",
    "        iterations = kwargs['iterations']\n",
    "\n",
    "    if 'scaling_method' not in kwargs:\n",
    "        scaling_method = None\n",
    "    else:\n",
    "        scaling_method = kwargs['scaling_method']\n",
    "\n",
    "        if scaling_method != 'normalize':\n",
    "            scaling_method = 'standardize'\n",
    "    \n",
    "    if 'method' not in kwargs:\n",
    "        method = 'BFGS'\n",
    "    else:\n",
    "        method = kwargs['method']\n",
    "\n",
    "    # Data preprocessing\n",
    "    x = np.reshape(x, (SAMPLE_SIZE, SIZE // SAMPLE_SIZE))\n",
    "    #x.reshape(SAMPLE_SIZE, SIZE // SAMPLE_SIZE) # Make sure x is a 2D array\n",
    "    \n",
    "    if scaling_method is not None:\n",
    "        if scaling_method == 'standardize':\n",
    "            x, mean, std = preprocess.stardardize(x)\n",
    "            scaling = (scaling_method, mean, std)\n",
    "        if scaling_method == 'normalize':\n",
    "            x, max, min = preprocess.normalize(x)\n",
    "            scaling = (scaling_method, max, min)\n",
    "\n",
    "    x = np.hstack((np.ones((SAMPLE_SIZE, 1)), x))\n",
    "        \n",
    "    y = np.array(pd.get_dummies(y))\n",
    "\n",
    "\n",
    "    res = []\n",
    "    for i in range(y.shape[1]):\n",
    "        y_i = y[:, i]\n",
    "        theta = preprocess.init_theta(x.shape[1])\n",
    "        if 'use_gradient_descent' in kwargs:\n",
    "            use_gradient_descent = kwargs['use_gradient_descent']\n",
    "        else:\n",
    "            use_gradient_descent = False\n",
    "        if use_gradient_descent:\n",
    "            theta = _gradient_decent(x, y_i, lambda_, 0.1, iterations=iterations)\n",
    "        else:\n",
    "            theta = opt.minimize(fun= _cost, x0= theta,args= (x, y_i, lambda_), jac = _grad, method=method, options= {'maxiter': iterations}).x\n",
    "        res.append(theta)\n",
    "    return np.array(res), scaling"
   ]
  },
  {
   "cell_type": "code",
   "execution_count": 20,
   "metadata": {},
   "outputs": [],
   "source": [
    "def predict(x, theta, scaling):\n",
    "    '''Can only predict 1 sample at a time'''\n",
    "    if scaling[0] == 'standardize':\n",
    "        x = (np.array(x) - scaling[1]) / scaling[2]\n",
    "    elif scaling[0] == 'normalize':\n",
    "        max = scaling[1]\n",
    "        min = scaling[2]\n",
    "        x = (np.array(x) - min) / (max - min)\n",
    "    else:\n",
    "        x = np.array(x)\n",
    "    x = np.hstack((np.array([1]).reshape(1, 1), np.reshape(x, (1, np.size(x)))))\n",
    "    return np.argmax(func.sigmoid(x @ theta.T))"
   ]
  },
  {
   "cell_type": "code",
   "execution_count": 21,
   "metadata": {},
   "outputs": [],
   "source": [
    "all_theta, scaling = fit(x = x_train[:5000], y = y_train[:5000], scaling_method='normalize', method='BFGS', iterations=50, lambda_ = 0.1)"
   ]
  },
  {
   "cell_type": "code",
   "execution_count": 22,
   "metadata": {},
   "outputs": [
    {
     "name": "stdout",
     "output_type": "stream",
     "text": [
      "accuracy:  0.8746\n"
     ]
    }
   ],
   "source": [
    "def predict_all(x, y, theta, scaling):\n",
    "    correct = 0\n",
    "    TEST_SIZE = np.size(x, 0)\n",
    "    for i in range(TEST_SIZE):\n",
    "        correct += predict(x[i], theta, scaling) == y[i]\n",
    "    return correct / TEST_SIZE\n",
    "print('accuracy: ', predict_all(x_test, y_test, all_theta, scaling))"
   ]
  },
  {
   "cell_type": "code",
   "execution_count": 23,
   "metadata": {},
   "outputs": [],
   "source": [
    "def learning_curve(x_train, y_train, x_test, y_test, lambda_):\n",
    "    SAMPLE_SIZE = np.size(x_train, 0)\n",
    "    train_accuracy = []\n",
    "    test_accuracy = []\n",
    "    for j in range(1, SAMPLE_SIZE, SAMPLE_SIZE // 50):\n",
    "        x = x_train[:j]\n",
    "        y = y_train[:j]\n",
    "        theta, scale = fit(x, y, lambda_=lambda_, scaling_method = 'normalize', method = 'BFGS', iterations = 20)\n",
    "        train_accuracy.append(predict_all(x, y, theta, scale))\n",
    "        test_accuracy.append(predict_all(x_test, y_test, theta, scale))\n",
    "    train_accuracy = pd.Series(train_accuracy)\n",
    "    test_accuracy = pd.Series(test_accuracy)\n",
    "    plt.plot(train_accuracy, label='train')\n",
    "    plt.plot(test_accuracy, label='test')\n",
    "    return train_accuracy, test_accuracy"
   ]
  },
  {
   "cell_type": "code",
   "execution_count": null,
   "metadata": {},
   "outputs": [],
   "source": []
  },
  {
   "cell_type": "code",
   "execution_count": null,
   "metadata": {},
   "outputs": [],
   "source": [
    "learning_curve(x_train, y_train, x_test, y_test, lambda_ = 1)"
   ]
  },
  {
   "cell_type": "code",
   "execution_count": 22,
   "metadata": {},
   "outputs": [],
   "source": [
    "x = np.array([1, 2, 3, 4, 5, 6, 7, 8, 9, 10, 11, 12, 13, 14, 145]).reshape(10, 1)\n",
    "y = np.array([1, 2, 3, 4, 5, 6, 7, 8, 9, 10, 11, 12, 13, 14, 145]).reshape(10)"
   ]
  },
  {
   "cell_type": "code",
   "execution_count": 23,
   "metadata": {},
   "outputs": [],
   "source": [
    "from models.lr import LogisticRegression\n",
    "lr = LogisticRegression()\n",
    "lr.set_x(x)\n",
    "lr.set_y(y)\n",
    "lr.set_iter_num(20)\n",
    "lr.set_lambda(0)\n",
    "lr.set_scaling_method('normalize')\n",
    "lr.fit()"
   ]
  },
  {
   "cell_type": "code",
   "execution_count": 28,
   "metadata": {},
   "outputs": [
    {
     "name": "stdout",
     "output_type": "stream",
     "text": [
      "(4, array([[0.09465609],\n",
      "       [0.09749703],\n",
      "       [0.10206438],\n",
      "       [0.10422943],\n",
      "       [0.10478919],\n",
      "       [0.10415966],\n",
      "       [0.10244934],\n",
      "       [0.09960536],\n",
      "       [0.09589342],\n",
      "       [0.09465609]]))\n"
     ]
    }
   ],
   "source": [
    "print(lr.predict(5))"
   ]
  },
  {
   "cell_type": "code",
   "execution_count": 9,
   "metadata": {},
   "outputs": [
    {
     "data": {
      "image/png": "[encoded data removed]",
      "text/plain": [
       "<Figure size 720x720 with 25 Axes>"
      ]
     },
     "metadata": {
      "needs_background": "light"
     },
     "output_type": "display_data"
    }
   ],
   "source": [
    "plt.figure(figsize = (10, 10))\n",
    "import random\n",
    "for i in range(25):\n",
    "    plt.subplot(5, 5, i + 1)\n",
    "    id = random.randint(0, len(x_test))\n",
    "    plt.axis('off')\n",
    "    plt.imshow(x_test[i], cmap = 'gray')\n",
    "    plt.title('{}, predict: {}'.format(y_test[i], lr.predict(x_test[i])[0]))"
   ]
  }
 ],
 "metadata": {
  "interpreter": {
   "hash": "71c7154e22d4c5eb7edefb525d7c156d27c580850338ab7b937ea40729d8198a"
  },
  "kernelspec": {
   "display_name": "Python 3.10.4 ('ml_lib')",
   "language": "python",
   "name": "python3"
  },
  "language_info": {
   "codemirror_mode": {
    "name": "ipython",
    "version": 3
   },
   "file_extension": ".py",
   "mimetype": "text/x-python",
   "name": "python",
   "nbconvert_exporter": "python",
   "pygments_lexer": "ipython3",
   "version": "3.10.4"
  },
  "orig_nbformat": 4
 },
 "nbformat": 4,
 "nbformat_minor": 2
}
